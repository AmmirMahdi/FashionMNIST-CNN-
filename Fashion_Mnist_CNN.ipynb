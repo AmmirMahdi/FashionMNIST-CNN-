{
  "nbformat": 4,
  "nbformat_minor": 0,
  "metadata": {
    "colab": {
      "name": "Fashion Mnist - CNN.ipynb",
      "version": "0.3.2",
      "provenance": []
    },
    "kernelspec": {
      "name": "python3",
      "display_name": "Python 3"
    },
    "accelerator": "GPU"
  },
  "cells": [
    {
      "cell_type": "code",
      "metadata": {
        "id": "kWeRrAq5h2Mf",
        "colab_type": "code",
        "colab": {}
      },
      "source": [
        "import numpy as np\n",
        "import matplotlib.pyplot as plt\n",
        "import keras\n",
        "from keras.models import Sequential\n",
        "from keras.layers import Dense, Dropout, Activation, Flatten\n",
        "from keras.layers import Conv2D, MaxPooling2D\n",
        "\n",
        "from keras.datasets import cifar10"
      ],
      "execution_count": 0,
      "outputs": []
    },
    {
      "cell_type": "markdown",
      "metadata": {
        "id": "BQ5R1rKVidvF",
        "colab_type": "text"
      },
      "source": [
        "## Load Data"
      ]
    },
    {
      "cell_type": "code",
      "metadata": {
        "id": "rxCCE2oQiC68",
        "colab_type": "code",
        "colab": {
          "base_uri": "https://localhost:8080/",
          "height": 53
        },
        "outputId": "30fe90cb-5e68-4309-abf0-ddb9dfe1fca1"
      },
      "source": [
        "(x_train, y_train), (x_test, y_test) = cifar10.load_data()"
      ],
      "execution_count": 2,
      "outputs": [
        {
          "output_type": "stream",
          "text": [
            "Downloading data from https://www.cs.toronto.edu/~kriz/cifar-10-python.tar.gz\n",
            "170500096/170498071 [==============================] - 2s 0us/step\n"
          ],
          "name": "stdout"
        }
      ]
    },
    {
      "cell_type": "code",
      "metadata": {
        "id": "iNge2EG1iC3b",
        "colab_type": "code",
        "colab": {
          "base_uri": "https://localhost:8080/",
          "height": 71
        },
        "outputId": "0debe82b-391f-4a64-f3c1-9240171559d5"
      },
      "source": [
        "print('X_train Shape : {}'.format(x_train.shape))\n",
        "print('Train Samples : {}'.format(x_train.shape[0]))\n",
        "print('Test Samples  : {}'.format(x_test.shape[0]))"
      ],
      "execution_count": 3,
      "outputs": [
        {
          "output_type": "stream",
          "text": [
            "X_train Shape : (50000, 32, 32, 3)\n",
            "Train Samples : 50000\n",
            "Test Samples  : 10000\n"
          ],
          "name": "stdout"
        }
      ]
    },
    {
      "cell_type": "markdown",
      "metadata": {
        "id": "QMpL2LFFjhgx",
        "colab_type": "text"
      },
      "source": [
        "## Preprocessing"
      ]
    },
    {
      "cell_type": "markdown",
      "metadata": {
        "id": "SBQhQw19i7j-",
        "colab_type": "text"
      },
      "source": [
        "####Convert To Categorical Data"
      ]
    },
    {
      "cell_type": "code",
      "metadata": {
        "id": "hjCad6rniC1F",
        "colab_type": "code",
        "colab": {}
      },
      "source": [
        "# import library\n",
        "from keras.utils import to_categorical\n",
        "\n",
        "# Define Number classes\n",
        "n_classes = 10\n",
        "\n",
        "# Convert to categorical \n",
        "y_train = to_categorical(y_train, n_classes)\n",
        "y_test  = to_categorical(y_test, n_classes)"
      ],
      "execution_count": 0,
      "outputs": []
    },
    {
      "cell_type": "markdown",
      "metadata": {
        "id": "p97gsfZmjmCC",
        "colab_type": "text"
      },
      "source": [
        "### Scale Data"
      ]
    },
    {
      "cell_type": "code",
      "metadata": {
        "id": "I4GOad2UiCxr",
        "colab_type": "code",
        "colab": {}
      },
      "source": [
        "x_train = x_train.astype('float32')\n",
        "x_test  = x_test.astype('float32')\n",
        "\n",
        "x_train /= 255\n",
        "x_test /= 255"
      ],
      "execution_count": 0,
      "outputs": []
    },
    {
      "cell_type": "code",
      "metadata": {
        "id": "Q8QZtgvbiCvk",
        "colab_type": "code",
        "colab": {
          "base_uri": "https://localhost:8080/",
          "height": 35
        },
        "outputId": "2d6f95b7-b458-4449-f969-fc1284611892"
      },
      "source": [
        "x_train.shape"
      ],
      "execution_count": 7,
      "outputs": [
        {
          "output_type": "execute_result",
          "data": {
            "text/plain": [
              "(50000, 32, 32, 3)"
            ]
          },
          "metadata": {
            "tags": []
          },
          "execution_count": 7
        }
      ]
    },
    {
      "cell_type": "markdown",
      "metadata": {
        "id": "Itr9xZJdkA0M",
        "colab_type": "text"
      },
      "source": [
        "### Create Model"
      ]
    },
    {
      "cell_type": "code",
      "metadata": {
        "id": "JBr1HKVLiCso",
        "colab_type": "code",
        "colab": {
          "base_uri": "https://localhost:8080/",
          "height": 287
        },
        "outputId": "53d40761-d2aa-4366-a56f-01a974f7458a"
      },
      "source": [
        "# Define Model\n",
        "model = Sequential()\n",
        "\n",
        "model.add(Conv2D(32, (3,3), padding='same', input_shape=x_train.shape[1:]))\n",
        "model.add(Activation('relu'))\n",
        "model.add(Conv2D(32, (3,3)))\n",
        "model.add(Activation('relu'))\n",
        "model.add(MaxPooling2D(pool_size=(2,2)))\n",
        "model.add(Dropout(0.25))\n",
        "\n",
        "\n",
        "model.add(Conv2D(32, (3,3), padding='same'))\n",
        "model.add(Activation('relu'))\n",
        "model.add(Conv2D(32, (3,3)))\n",
        "model.add(Activation('relu'))\n",
        "model.add(MaxPooling2D(pool_size=(2,2)))\n",
        "model.add(Dropout(0.25))\n",
        "\n",
        "model.add(Flatten())\n",
        "model.add(Dense(512))\n",
        "model.add(Activation('relu'))\n",
        "model.add(Dropout(0.5))\n",
        "model.add(Dense(n_classes))\n",
        "model.add(Activation('softmax'))\n",
        "\n",
        "opt = keras.optimizers.rmsprop(lr=0.0001, decay=1e-6)"
      ],
      "execution_count": 9,
      "outputs": [
        {
          "output_type": "stream",
          "text": [
            "WARNING: Logging before flag parsing goes to stderr.\n",
            "W0814 10:05:06.169480 140436630501248 deprecation_wrapper.py:119] From /usr/local/lib/python3.6/dist-packages/keras/backend/tensorflow_backend.py:74: The name tf.get_default_graph is deprecated. Please use tf.compat.v1.get_default_graph instead.\n",
            "\n",
            "W0814 10:05:06.213739 140436630501248 deprecation_wrapper.py:119] From /usr/local/lib/python3.6/dist-packages/keras/backend/tensorflow_backend.py:517: The name tf.placeholder is deprecated. Please use tf.compat.v1.placeholder instead.\n",
            "\n",
            "W0814 10:05:06.222247 140436630501248 deprecation_wrapper.py:119] From /usr/local/lib/python3.6/dist-packages/keras/backend/tensorflow_backend.py:4138: The name tf.random_uniform is deprecated. Please use tf.random.uniform instead.\n",
            "\n",
            "W0814 10:05:06.267687 140436630501248 deprecation_wrapper.py:119] From /usr/local/lib/python3.6/dist-packages/keras/backend/tensorflow_backend.py:3976: The name tf.nn.max_pool is deprecated. Please use tf.nn.max_pool2d instead.\n",
            "\n",
            "W0814 10:05:06.272026 140436630501248 deprecation_wrapper.py:119] From /usr/local/lib/python3.6/dist-packages/keras/backend/tensorflow_backend.py:133: The name tf.placeholder_with_default is deprecated. Please use tf.compat.v1.placeholder_with_default instead.\n",
            "\n",
            "W0814 10:05:06.281310 140436630501248 deprecation.py:506] From /usr/local/lib/python3.6/dist-packages/keras/backend/tensorflow_backend.py:3445: calling dropout (from tensorflow.python.ops.nn_ops) with keep_prob is deprecated and will be removed in a future version.\n",
            "Instructions for updating:\n",
            "Please use `rate` instead of `keep_prob`. Rate should be set to `rate = 1 - keep_prob`.\n"
          ],
          "name": "stderr"
        }
      ]
    },
    {
      "cell_type": "code",
      "metadata": {
        "id": "tSxxsmyAiCqX",
        "colab_type": "code",
        "colab": {
          "base_uri": "https://localhost:8080/",
          "height": 785
        },
        "outputId": "6fc3f717-2475-4d0d-dc75-b00f4a3bdbc7"
      },
      "source": [
        "model.summary()"
      ],
      "execution_count": 11,
      "outputs": [
        {
          "output_type": "stream",
          "text": [
            "_________________________________________________________________\n",
            "Layer (type)                 Output Shape              Param #   \n",
            "=================================================================\n",
            "conv2d_1 (Conv2D)            (None, 32, 32, 32)        896       \n",
            "_________________________________________________________________\n",
            "activation_1 (Activation)    (None, 32, 32, 32)        0         \n",
            "_________________________________________________________________\n",
            "conv2d_2 (Conv2D)            (None, 30, 30, 32)        9248      \n",
            "_________________________________________________________________\n",
            "activation_2 (Activation)    (None, 30, 30, 32)        0         \n",
            "_________________________________________________________________\n",
            "max_pooling2d_1 (MaxPooling2 (None, 15, 15, 32)        0         \n",
            "_________________________________________________________________\n",
            "dropout_1 (Dropout)          (None, 15, 15, 32)        0         \n",
            "_________________________________________________________________\n",
            "conv2d_3 (Conv2D)            (None, 15, 15, 32)        9248      \n",
            "_________________________________________________________________\n",
            "activation_3 (Activation)    (None, 15, 15, 32)        0         \n",
            "_________________________________________________________________\n",
            "conv2d_4 (Conv2D)            (None, 13, 13, 32)        9248      \n",
            "_________________________________________________________________\n",
            "activation_4 (Activation)    (None, 13, 13, 32)        0         \n",
            "_________________________________________________________________\n",
            "max_pooling2d_2 (MaxPooling2 (None, 6, 6, 32)          0         \n",
            "_________________________________________________________________\n",
            "dropout_2 (Dropout)          (None, 6, 6, 32)          0         \n",
            "_________________________________________________________________\n",
            "flatten_1 (Flatten)          (None, 1152)              0         \n",
            "_________________________________________________________________\n",
            "dense_1 (Dense)              (None, 512)               590336    \n",
            "_________________________________________________________________\n",
            "activation_5 (Activation)    (None, 512)               0         \n",
            "_________________________________________________________________\n",
            "dropout_3 (Dropout)          (None, 512)               0         \n",
            "_________________________________________________________________\n",
            "dense_2 (Dense)              (None, 10)                5130      \n",
            "_________________________________________________________________\n",
            "activation_6 (Activation)    (None, 10)                0         \n",
            "=================================================================\n",
            "Total params: 624,106\n",
            "Trainable params: 624,106\n",
            "Non-trainable params: 0\n",
            "_________________________________________________________________\n"
          ],
          "name": "stdout"
        }
      ]
    },
    {
      "cell_type": "markdown",
      "metadata": {
        "id": "t6g8OPRjl6Ic",
        "colab_type": "text"
      },
      "source": [
        "#### Compile Model"
      ]
    },
    {
      "cell_type": "code",
      "metadata": {
        "id": "GlWf9522iCmS",
        "colab_type": "code",
        "colab": {
          "base_uri": "https://localhost:8080/",
          "height": 108
        },
        "outputId": "8c3a9b47-3b36-45a6-f009-e3fa60807e44"
      },
      "source": [
        "model.compile(loss='categorical_crossentropy',\n",
        "              optimizer=opt,\n",
        "              metrics=['accuracy'])"
      ],
      "execution_count": 12,
      "outputs": [
        {
          "output_type": "stream",
          "text": [
            "W0814 10:06:32.069472 140436630501248 deprecation_wrapper.py:119] From /usr/local/lib/python3.6/dist-packages/keras/optimizers.py:790: The name tf.train.Optimizer is deprecated. Please use tf.compat.v1.train.Optimizer instead.\n",
            "\n",
            "W0814 10:06:32.084828 140436630501248 deprecation_wrapper.py:119] From /usr/local/lib/python3.6/dist-packages/keras/backend/tensorflow_backend.py:3295: The name tf.log is deprecated. Please use tf.math.log instead.\n",
            "\n"
          ],
          "name": "stderr"
        }
      ]
    },
    {
      "cell_type": "markdown",
      "metadata": {
        "id": "vBuJXG-JmCi2",
        "colab_type": "text"
      },
      "source": [
        "#### Data Augmention"
      ]
    },
    {
      "cell_type": "code",
      "metadata": {
        "id": "gaoiAHkxiCk1",
        "colab_type": "code",
        "colab": {
          "base_uri": "https://localhost:8080/",
          "height": 1000
        },
        "outputId": "668ece05-be88-44d8-cfb5-594dca25b884"
      },
      "source": [
        "# Import Library\n",
        "from keras.preprocessing.image import ImageDataGenerator\n",
        "# Define Parameter\n",
        "batch_size = 32\n",
        "num_classes = 10\n",
        "epochs = 100\n",
        "data_augmentation = True\n",
        "num_predictions = 20\n",
        "\n",
        "# Data augmentation\n",
        "\n",
        "if not data_augmentation:\n",
        "    print('Not using data augmentation.')\n",
        "    model.fit(x_train, y_train,\n",
        "              batch_size=batch_size,\n",
        "              epochs=epochs,\n",
        "              validation_data=(x_test, y_test),\n",
        "              shuffle=True)\n",
        "else:\n",
        "    print('Using real-time data augmentation.')\n",
        "    # This will do preprocessing and realtime data augmentation:\n",
        "    datagen = ImageDataGenerator(\n",
        "        featurewise_center=False,  # set input mean to 0 over the dataset\n",
        "        samplewise_center=False,  # set each sample mean to 0\n",
        "        featurewise_std_normalization=False,  # divide inputs by std of the dataset\n",
        "        samplewise_std_normalization=False,  # divide each input by its std\n",
        "        zca_whitening=False,  # apply ZCA whitening\n",
        "        zca_epsilon=1e-06,  # epsilon for ZCA whitening\n",
        "        rotation_range=0,  # randomly rotate images in the range (degrees, 0 to 180)\n",
        "        # randomly shift images horizontally (fraction of total width)\n",
        "        width_shift_range=0.1,\n",
        "        # randomly shift images vertically (fraction of total height)\n",
        "        height_shift_range=0.1,\n",
        "        shear_range=0.,  # set range for random shear\n",
        "        zoom_range=0.,  # set range for random zoom\n",
        "        channel_shift_range=0.,  # set range for random channel shifts\n",
        "        # set mode for filling points outside the input boundaries\n",
        "        fill_mode='nearest',\n",
        "        cval=0.,  # value used for fill_mode = \"constant\"\n",
        "        horizontal_flip=True,  # randomly flip images\n",
        "        vertical_flip=False,  # randomly flip images\n",
        "        # set rescaling factor (applied before any other transformation)\n",
        "        rescale=None,\n",
        "        # set function that will be applied on each input\n",
        "        preprocessing_function=None,\n",
        "        # image data format, either \"channels_first\" or \"channels_last\"\n",
        "        data_format=None,\n",
        "        # fraction of images reserved for validation (strictly between 0 and 1)\n",
        "        validation_split=0.0)\n",
        "\n",
        "    # Compute quantities required for feature-wise normalization\n",
        "    # (std, mean, and principal components if ZCA whitening is applied).\n",
        "    datagen.fit(x_train)\n",
        "\n",
        "    # Fit the model on the batches generated by datagen.flow().\n",
        "    model.fit_generator(datagen.flow(x_train, y_train,\n",
        "                                     batch_size=batch_size),\n",
        "                        epochs=epochs,\n",
        "                        validation_data=(x_test, y_test),\n",
        "                        steps_per_epoch=200,\n",
        "                        workers=4)"
      ],
      "execution_count": 19,
      "outputs": [
        {
          "output_type": "stream",
          "text": [
            "Using real-time data augmentation.\n",
            "Epoch 1/100\n",
            "200/200 [==============================] - 4s 22ms/step - loss: 1.9691 - acc: 0.2787 - val_loss: 1.8720 - val_acc: 0.3396\n",
            "Epoch 2/100\n",
            "200/200 [==============================] - 4s 21ms/step - loss: 1.8629 - acc: 0.3175 - val_loss: 1.7566 - val_acc: 0.3841\n",
            "Epoch 3/100\n",
            "200/200 [==============================] - 4s 22ms/step - loss: 1.8363 - acc: 0.3223 - val_loss: 1.7497 - val_acc: 0.3661\n",
            "Epoch 4/100\n",
            "200/200 [==============================] - 4s 21ms/step - loss: 1.8016 - acc: 0.3364 - val_loss: 1.8055 - val_acc: 0.3569\n",
            "Epoch 5/100\n",
            "200/200 [==============================] - 4s 21ms/step - loss: 1.7553 - acc: 0.3595 - val_loss: 1.6693 - val_acc: 0.4064\n",
            "Epoch 6/100\n",
            "200/200 [==============================] - 4s 21ms/step - loss: 1.7209 - acc: 0.3722 - val_loss: 1.6876 - val_acc: 0.3813\n",
            "Epoch 7/100\n",
            "200/200 [==============================] - 4s 21ms/step - loss: 1.7202 - acc: 0.3695 - val_loss: 1.5829 - val_acc: 0.4259\n",
            "Epoch 8/100\n",
            "200/200 [==============================] - 4s 21ms/step - loss: 1.6789 - acc: 0.3878 - val_loss: 1.5478 - val_acc: 0.4400\n",
            "Epoch 9/100\n",
            "200/200 [==============================] - 4s 21ms/step - loss: 1.6579 - acc: 0.3881 - val_loss: 1.5527 - val_acc: 0.4300\n",
            "Epoch 10/100\n",
            "200/200 [==============================] - 4s 21ms/step - loss: 1.6455 - acc: 0.3992 - val_loss: 1.5514 - val_acc: 0.4377\n",
            "Epoch 11/100\n",
            "200/200 [==============================] - 4s 21ms/step - loss: 1.6228 - acc: 0.4092 - val_loss: 1.4960 - val_acc: 0.4537\n",
            "Epoch 12/100\n",
            "200/200 [==============================] - 4s 21ms/step - loss: 1.5943 - acc: 0.4141 - val_loss: 1.4829 - val_acc: 0.4622\n",
            "Epoch 13/100\n",
            "200/200 [==============================] - 4s 21ms/step - loss: 1.5936 - acc: 0.4163 - val_loss: 1.4894 - val_acc: 0.4615\n",
            "Epoch 14/100\n",
            "200/200 [==============================] - 4s 21ms/step - loss: 1.5664 - acc: 0.4258 - val_loss: 1.5085 - val_acc: 0.4517\n",
            "Epoch 15/100\n",
            "200/200 [==============================] - 4s 21ms/step - loss: 1.5756 - acc: 0.4286 - val_loss: 1.4360 - val_acc: 0.4750\n",
            "Epoch 16/100\n",
            "200/200 [==============================] - 4s 21ms/step - loss: 1.5455 - acc: 0.4347 - val_loss: 1.4309 - val_acc: 0.4760\n",
            "Epoch 17/100\n",
            "200/200 [==============================] - 4s 21ms/step - loss: 1.5376 - acc: 0.4355 - val_loss: 1.4075 - val_acc: 0.4864\n",
            "Epoch 18/100\n",
            "200/200 [==============================] - 4s 21ms/step - loss: 1.5174 - acc: 0.4466 - val_loss: 1.5498 - val_acc: 0.4507\n",
            "Epoch 19/100\n",
            "200/200 [==============================] - 4s 21ms/step - loss: 1.5274 - acc: 0.4442 - val_loss: 1.4273 - val_acc: 0.4867\n",
            "Epoch 20/100\n",
            "200/200 [==============================] - 4s 22ms/step - loss: 1.4990 - acc: 0.4592 - val_loss: 1.4280 - val_acc: 0.4871\n",
            "Epoch 21/100\n",
            "200/200 [==============================] - 4s 21ms/step - loss: 1.5310 - acc: 0.4400 - val_loss: 1.3668 - val_acc: 0.5067\n",
            "Epoch 22/100\n",
            "200/200 [==============================] - 4s 22ms/step - loss: 1.4822 - acc: 0.4600 - val_loss: 1.3837 - val_acc: 0.4972\n",
            "Epoch 23/100\n",
            "200/200 [==============================] - 4s 21ms/step - loss: 1.4710 - acc: 0.4611 - val_loss: 1.3656 - val_acc: 0.5039\n",
            "Epoch 24/100\n",
            "200/200 [==============================] - 4s 21ms/step - loss: 1.4847 - acc: 0.4583 - val_loss: 1.3411 - val_acc: 0.5173\n",
            "Epoch 25/100\n",
            "200/200 [==============================] - 4s 21ms/step - loss: 1.4710 - acc: 0.4689 - val_loss: 1.3892 - val_acc: 0.4900\n",
            "Epoch 26/100\n",
            "200/200 [==============================] - 4s 21ms/step - loss: 1.4700 - acc: 0.4627 - val_loss: 1.4175 - val_acc: 0.4808\n",
            "Epoch 27/100\n",
            "200/200 [==============================] - 4s 21ms/step - loss: 1.4298 - acc: 0.4834 - val_loss: 1.3416 - val_acc: 0.5182\n",
            "Epoch 28/100\n",
            "200/200 [==============================] - 4s 21ms/step - loss: 1.4407 - acc: 0.4788 - val_loss: 1.3024 - val_acc: 0.5253\n",
            "Epoch 29/100\n",
            "200/200 [==============================] - 4s 21ms/step - loss: 1.4591 - acc: 0.4673 - val_loss: 1.2963 - val_acc: 0.5277\n",
            "Epoch 30/100\n",
            "200/200 [==============================] - 4s 21ms/step - loss: 1.4235 - acc: 0.4802 - val_loss: 1.2843 - val_acc: 0.5300\n",
            "Epoch 31/100\n",
            "200/200 [==============================] - 4s 21ms/step - loss: 1.3905 - acc: 0.4992 - val_loss: 1.3379 - val_acc: 0.5123\n",
            "Epoch 32/100\n",
            "200/200 [==============================] - 4s 21ms/step - loss: 1.4277 - acc: 0.4831 - val_loss: 1.3084 - val_acc: 0.5219\n",
            "Epoch 33/100\n",
            "200/200 [==============================] - 4s 21ms/step - loss: 1.4083 - acc: 0.4884 - val_loss: 1.3269 - val_acc: 0.5152\n",
            "Epoch 34/100\n",
            "200/200 [==============================] - 4s 21ms/step - loss: 1.4015 - acc: 0.5012 - val_loss: 1.3095 - val_acc: 0.5250\n",
            "Epoch 35/100\n",
            "200/200 [==============================] - 4s 21ms/step - loss: 1.4191 - acc: 0.4889 - val_loss: 1.2861 - val_acc: 0.5342\n",
            "Epoch 36/100\n",
            "200/200 [==============================] - 4s 21ms/step - loss: 1.3805 - acc: 0.4981 - val_loss: 1.2491 - val_acc: 0.5444\n",
            "Epoch 37/100\n",
            "200/200 [==============================] - 4s 21ms/step - loss: 1.3985 - acc: 0.4895 - val_loss: 1.2611 - val_acc: 0.5475\n",
            "Epoch 38/100\n",
            "200/200 [==============================] - 4s 21ms/step - loss: 1.3695 - acc: 0.5103 - val_loss: 1.2609 - val_acc: 0.5425\n",
            "Epoch 39/100\n",
            "200/200 [==============================] - 4s 21ms/step - loss: 1.3586 - acc: 0.5077 - val_loss: 1.2445 - val_acc: 0.5493\n",
            "Epoch 40/100\n",
            "200/200 [==============================] - 4s 21ms/step - loss: 1.3736 - acc: 0.5063 - val_loss: 1.2980 - val_acc: 0.5373\n",
            "Epoch 41/100\n",
            "200/200 [==============================] - 4s 21ms/step - loss: 1.3590 - acc: 0.5116 - val_loss: 1.2515 - val_acc: 0.5566\n",
            "Epoch 42/100\n",
            "200/200 [==============================] - 4s 21ms/step - loss: 1.3435 - acc: 0.5169 - val_loss: 1.2769 - val_acc: 0.5397\n",
            "Epoch 43/100\n",
            "200/200 [==============================] - 4s 21ms/step - loss: 1.3452 - acc: 0.5195 - val_loss: 1.2610 - val_acc: 0.5455\n",
            "Epoch 44/100\n",
            "200/200 [==============================] - 4s 21ms/step - loss: 1.3530 - acc: 0.5106 - val_loss: 1.2852 - val_acc: 0.5368\n",
            "Epoch 45/100\n",
            "200/200 [==============================] - 4s 21ms/step - loss: 1.3293 - acc: 0.5247 - val_loss: 1.2732 - val_acc: 0.5414\n",
            "Epoch 46/100\n",
            "200/200 [==============================] - 4s 21ms/step - loss: 1.3378 - acc: 0.5180 - val_loss: 1.2950 - val_acc: 0.5406\n",
            "Epoch 47/100\n",
            "200/200 [==============================] - 4s 21ms/step - loss: 1.3388 - acc: 0.5239 - val_loss: 1.2029 - val_acc: 0.5669\n",
            "Epoch 48/100\n",
            "200/200 [==============================] - 4s 21ms/step - loss: 1.3190 - acc: 0.5322 - val_loss: 1.1773 - val_acc: 0.5794\n",
            "Epoch 49/100\n",
            "200/200 [==============================] - 4s 21ms/step - loss: 1.3086 - acc: 0.5286 - val_loss: 1.1902 - val_acc: 0.5728\n",
            "Epoch 50/100\n",
            "200/200 [==============================] - 4s 21ms/step - loss: 1.3130 - acc: 0.5314 - val_loss: 1.1821 - val_acc: 0.5793\n",
            "Epoch 51/100\n",
            "200/200 [==============================] - 4s 21ms/step - loss: 1.3062 - acc: 0.5289 - val_loss: 1.1873 - val_acc: 0.5724\n",
            "Epoch 52/100\n",
            "200/200 [==============================] - 4s 21ms/step - loss: 1.3061 - acc: 0.5423 - val_loss: 1.1656 - val_acc: 0.5843\n",
            "Epoch 53/100\n",
            "200/200 [==============================] - 4s 21ms/step - loss: 1.3066 - acc: 0.5358 - val_loss: 1.2106 - val_acc: 0.5641\n",
            "Epoch 54/100\n",
            "200/200 [==============================] - 4s 21ms/step - loss: 1.3035 - acc: 0.5337 - val_loss: 1.2502 - val_acc: 0.5597\n",
            "Epoch 55/100\n",
            "200/200 [==============================] - 4s 20ms/step - loss: 1.2817 - acc: 0.5383 - val_loss: 1.2089 - val_acc: 0.5764\n",
            "Epoch 56/100\n",
            "200/200 [==============================] - 4s 21ms/step - loss: 1.2758 - acc: 0.5509 - val_loss: 1.1995 - val_acc: 0.5751\n",
            "Epoch 57/100\n",
            "200/200 [==============================] - 4s 21ms/step - loss: 1.2678 - acc: 0.5386 - val_loss: 1.1920 - val_acc: 0.5695\n",
            "Epoch 58/100\n",
            "200/200 [==============================] - 4s 21ms/step - loss: 1.2729 - acc: 0.5400 - val_loss: 1.1696 - val_acc: 0.5780\n",
            "Epoch 59/100\n",
            "200/200 [==============================] - 4s 21ms/step - loss: 1.2790 - acc: 0.5503 - val_loss: 1.1597 - val_acc: 0.5877\n",
            "Epoch 60/100\n",
            "200/200 [==============================] - 4s 21ms/step - loss: 1.2674 - acc: 0.5508 - val_loss: 1.1275 - val_acc: 0.6013\n",
            "Epoch 61/100\n",
            "200/200 [==============================] - 4s 20ms/step - loss: 1.2539 - acc: 0.5450 - val_loss: 1.3520 - val_acc: 0.5288\n",
            "Epoch 62/100\n",
            "200/200 [==============================] - 4s 21ms/step - loss: 1.2812 - acc: 0.5377 - val_loss: 1.1867 - val_acc: 0.5740\n",
            "Epoch 63/100\n",
            "200/200 [==============================] - 4s 21ms/step - loss: 1.2319 - acc: 0.5602 - val_loss: 1.2323 - val_acc: 0.5674\n",
            "Epoch 64/100\n",
            "200/200 [==============================] - 4s 20ms/step - loss: 1.2461 - acc: 0.5592 - val_loss: 1.1433 - val_acc: 0.5952\n",
            "Epoch 65/100\n",
            "200/200 [==============================] - 4s 21ms/step - loss: 1.2182 - acc: 0.5658 - val_loss: 1.1229 - val_acc: 0.6001\n",
            "Epoch 66/100\n",
            "200/200 [==============================] - 4s 21ms/step - loss: 1.2304 - acc: 0.5598 - val_loss: 1.1544 - val_acc: 0.5882\n",
            "Epoch 67/100\n",
            "200/200 [==============================] - 4s 21ms/step - loss: 1.2271 - acc: 0.5637 - val_loss: 1.1335 - val_acc: 0.5988\n",
            "Epoch 68/100\n",
            "200/200 [==============================] - 4s 21ms/step - loss: 1.2369 - acc: 0.5620 - val_loss: 1.1233 - val_acc: 0.6003\n",
            "Epoch 69/100\n",
            "200/200 [==============================] - 4s 20ms/step - loss: 1.2159 - acc: 0.5691 - val_loss: 1.1207 - val_acc: 0.5993\n",
            "Epoch 70/100\n",
            "200/200 [==============================] - 4s 21ms/step - loss: 1.2289 - acc: 0.5605 - val_loss: 1.1461 - val_acc: 0.5912\n",
            "Epoch 71/100\n",
            "200/200 [==============================] - 4s 21ms/step - loss: 1.2210 - acc: 0.5620 - val_loss: 1.1023 - val_acc: 0.6080\n",
            "Epoch 72/100\n",
            "200/200 [==============================] - 4s 21ms/step - loss: 1.2004 - acc: 0.5739 - val_loss: 1.0626 - val_acc: 0.6238\n",
            "Epoch 73/100\n",
            "200/200 [==============================] - 4s 21ms/step - loss: 1.2105 - acc: 0.5709 - val_loss: 1.0765 - val_acc: 0.6199\n",
            "Epoch 74/100\n",
            "200/200 [==============================] - 4s 21ms/step - loss: 1.1919 - acc: 0.5716 - val_loss: 1.0838 - val_acc: 0.6114\n",
            "Epoch 75/100\n",
            "200/200 [==============================] - 4s 21ms/step - loss: 1.1926 - acc: 0.5691 - val_loss: 1.0883 - val_acc: 0.6152\n",
            "Epoch 76/100\n",
            "200/200 [==============================] - 4s 21ms/step - loss: 1.1982 - acc: 0.5694 - val_loss: 1.2187 - val_acc: 0.5715\n",
            "Epoch 77/100\n",
            "200/200 [==============================] - 4s 21ms/step - loss: 1.2118 - acc: 0.5709 - val_loss: 1.0864 - val_acc: 0.6128\n",
            "Epoch 78/100\n",
            "200/200 [==============================] - 4s 21ms/step - loss: 1.1953 - acc: 0.5759 - val_loss: 1.1444 - val_acc: 0.5930\n",
            "Epoch 79/100\n",
            "200/200 [==============================] - 4s 21ms/step - loss: 1.2056 - acc: 0.5708 - val_loss: 1.1339 - val_acc: 0.5928\n",
            "Epoch 80/100\n",
            "200/200 [==============================] - 4s 21ms/step - loss: 1.1811 - acc: 0.5783 - val_loss: 1.1120 - val_acc: 0.6057\n",
            "Epoch 81/100\n",
            "200/200 [==============================] - 4s 21ms/step - loss: 1.2000 - acc: 0.5766 - val_loss: 1.0834 - val_acc: 0.6181\n",
            "Epoch 82/100\n",
            "200/200 [==============================] - 4s 21ms/step - loss: 1.1851 - acc: 0.5822 - val_loss: 1.0437 - val_acc: 0.6285\n",
            "Epoch 83/100\n",
            "200/200 [==============================] - 4s 21ms/step - loss: 1.1734 - acc: 0.5863 - val_loss: 1.0536 - val_acc: 0.6253\n",
            "Epoch 84/100\n",
            "200/200 [==============================] - 4s 21ms/step - loss: 1.1489 - acc: 0.5930 - val_loss: 1.0795 - val_acc: 0.6225\n",
            "Epoch 85/100\n",
            "200/200 [==============================] - 4s 21ms/step - loss: 1.1709 - acc: 0.5878 - val_loss: 1.1026 - val_acc: 0.6119\n",
            "Epoch 86/100\n",
            "200/200 [==============================] - 4s 21ms/step - loss: 1.1544 - acc: 0.5891 - val_loss: 1.0600 - val_acc: 0.6257\n",
            "Epoch 87/100\n",
            "200/200 [==============================] - 4s 21ms/step - loss: 1.1629 - acc: 0.5917 - val_loss: 1.0308 - val_acc: 0.6382\n",
            "Epoch 88/100\n",
            "200/200 [==============================] - 4s 21ms/step - loss: 1.1459 - acc: 0.5869 - val_loss: 1.0720 - val_acc: 0.6189\n",
            "Epoch 89/100\n",
            "200/200 [==============================] - 4s 20ms/step - loss: 1.1555 - acc: 0.5869 - val_loss: 1.1248 - val_acc: 0.6059\n",
            "Epoch 90/100\n",
            "200/200 [==============================] - 4s 21ms/step - loss: 1.1621 - acc: 0.5866 - val_loss: 1.1188 - val_acc: 0.6087\n",
            "Epoch 91/100\n",
            "200/200 [==============================] - 4s 20ms/step - loss: 1.1730 - acc: 0.5814 - val_loss: 1.0702 - val_acc: 0.6191\n",
            "Epoch 92/100\n",
            "200/200 [==============================] - 4s 21ms/step - loss: 1.1415 - acc: 0.5952 - val_loss: 1.0937 - val_acc: 0.6155\n",
            "Epoch 93/100\n",
            "200/200 [==============================] - 4s 21ms/step - loss: 1.1186 - acc: 0.6034 - val_loss: 1.0128 - val_acc: 0.6432\n",
            "Epoch 94/100\n",
            "200/200 [==============================] - 4s 21ms/step - loss: 1.1391 - acc: 0.5942 - val_loss: 1.0480 - val_acc: 0.6263\n",
            "Epoch 95/100\n",
            "200/200 [==============================] - 4s 21ms/step - loss: 1.1258 - acc: 0.5983 - val_loss: 0.9993 - val_acc: 0.6492\n",
            "Epoch 96/100\n",
            "200/200 [==============================] - 4s 21ms/step - loss: 1.1445 - acc: 0.5900 - val_loss: 1.1173 - val_acc: 0.6099\n",
            "Epoch 97/100\n",
            "200/200 [==============================] - 4s 21ms/step - loss: 1.1389 - acc: 0.5939 - val_loss: 1.0055 - val_acc: 0.6442\n",
            "Epoch 98/100\n",
            "200/200 [==============================] - 4s 21ms/step - loss: 1.1328 - acc: 0.5952 - val_loss: 1.0864 - val_acc: 0.6192\n",
            "Epoch 99/100\n",
            "200/200 [==============================] - 5s 23ms/step - loss: 1.1369 - acc: 0.5962 - val_loss: 1.0528 - val_acc: 0.6258\n",
            "Epoch 100/100\n",
            "200/200 [==============================] - 4s 21ms/step - loss: 1.1158 - acc: 0.6025 - val_loss: 1.0053 - val_acc: 0.6454\n"
          ],
          "name": "stdout"
        }
      ]
    },
    {
      "cell_type": "code",
      "metadata": {
        "id": "3LYwLwk7iChR",
        "colab_type": "code",
        "colab": {}
      },
      "source": [
        "history = model.history"
      ],
      "execution_count": 0,
      "outputs": []
    },
    {
      "cell_type": "code",
      "metadata": {
        "id": "EFUxKwRViCfC",
        "colab_type": "code",
        "colab": {}
      },
      "source": [
        "acc = history.history['acc']\n",
        "val_acc = history.history['val_acc']\n",
        "loss = history.history['loss']\n",
        "val_loss = history.history['val_loss']"
      ],
      "execution_count": 0,
      "outputs": []
    },
    {
      "cell_type": "code",
      "metadata": {
        "id": "3edgX-dRiCb_",
        "colab_type": "code",
        "colab": {
          "base_uri": "https://localhost:8080/",
          "height": 553
        },
        "outputId": "6d37b66b-bb2c-45fb-b511-1fd19e60095d"
      },
      "source": [
        "plt.figure(figsize=(13,9))\n",
        "plt.title('Trainig and Testing Validation')\n",
        "plt.plot(np.arange(0,100), acc, label='Training Accuracy')\n",
        "plt.plot(np.arange(0,100), val_acc, label='Validation Accuracy')\n",
        "plt.legend()\n",
        "plt.show()"
      ],
      "execution_count": 28,
      "outputs": [
        {
          "output_type": "display_data",
          "data": {
            "image/png": "[encoded data removed]",
            "text/plain": [
              "<Figure size 936x648 with 1 Axes>"
            ]
          },
          "metadata": {
            "tags": []
          }
        }
      ]
    },
    {
      "cell_type": "code",
      "metadata": {
        "id": "luPwNer6iCZl",
        "colab_type": "code",
        "colab": {
          "base_uri": "https://localhost:8080/",
          "height": 553
        },
        "outputId": "631ced18-d116-447f-b5b9-fa83603c78fa"
      },
      "source": [
        "plt.figure(figsize=(13,9))\n",
        "plt.title('Trainig and Testing Validation')\n",
        "plt.plot(np.arange(0,100), loss, label='Training Loss')\n",
        "plt.plot(np.arange(0,100), val_loss, label='Validation Loss')\n",
        "plt.grid()\n",
        "plt.legend()\n",
        "plt.show()"
      ],
      "execution_count": 31,
      "outputs": [
        {
          "output_type": "display_data",
          "data": {
            "image/png": "[encoded data removed]",
            "text/plain": [
              "<Figure size 936x648 with 1 Axes>"
            ]
          },
          "metadata": {
            "tags": []
          }
        }
      ]
    },
    {
      "cell_type": "code",
      "metadata": {
        "id": "hCoYj3MCiCWb",
        "colab_type": "code",
        "colab": {}
      },
      "source": [
        ""
      ],
      "execution_count": 0,
      "outputs": []
    },
    {
      "cell_type": "code",
      "metadata": {
        "id": "djAVtXuEiCUF",
        "colab_type": "code",
        "colab": {}
      },
      "source": [
        ""
      ],
      "execution_count": 0,
      "outputs": []
    }
  ]
}